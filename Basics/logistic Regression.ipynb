{
 "cells": [
  {
   "cell_type": "code",
   "execution_count": 4,
   "metadata": {},
   "outputs": [],
   "source": [
    "# Imports\n",
    "import torch\n",
    "import torchvision\n",
    "from torchvision.datasets import MNIST"
   ]
  },
  {
   "cell_type": "code",
   "execution_count": 5,
   "metadata": {},
   "outputs": [
    {
     "data": {
      "text/plain": [
       "60000"
      ]
     },
     "execution_count": 5,
     "metadata": {},
     "output_type": "execute_result"
    }
   ],
   "source": [
    "# Download training dataset\n",
    "dataset = MNIST(root='data/', download=True)\n",
    "len(dataset)"
   ]
  },
  {
   "cell_type": "code",
   "execution_count": 6,
   "metadata": {},
   "outputs": [
    {
     "data": {
      "text/plain": [
       "10000"
      ]
     },
     "execution_count": 6,
     "metadata": {},
     "output_type": "execute_result"
    }
   ],
   "source": [
    "test_dataset = MNIST(root='data/', train=False)\n",
    "len(test_dataset)"
   ]
  },
  {
   "cell_type": "code",
   "execution_count": 7,
   "metadata": {},
   "outputs": [
    {
     "data": {
      "text/plain": [
       "(<PIL.Image.Image image mode=L size=28x28>, 5)"
      ]
     },
     "execution_count": 7,
     "metadata": {},
     "output_type": "execute_result"
    }
   ],
   "source": [
    "dataset[0]"
   ]
  },
  {
   "cell_type": "markdown",
   "metadata": {},
   "source": [
    "# Ploting with Matplotlib"
   ]
  },
  {
   "cell_type": "code",
   "execution_count": 8,
   "metadata": {},
   "outputs": [],
   "source": [
    "import matplotlib.pyplot as plt\n",
    "#%matplotlib inline"
   ]
  },
  {
   "cell_type": "code",
   "execution_count": 9,
   "metadata": {},
   "outputs": [],
   "source": [
    "image, label = dataset[0]\n"
   ]
  },
  {
   "cell_type": "code",
   "execution_count": 10,
   "metadata": {},
   "outputs": [
    {
     "data": {
      "text/plain": [
       "<matplotlib.image.AxesImage at 0x1f4307b11c0>"
      ]
     },
     "execution_count": 10,
     "metadata": {},
     "output_type": "execute_result"
    },
    {
     "data": {
      "image/png": "[encoded data removed]",
      "text/plain": [
       "<Figure size 640x480 with 1 Axes>"
      ]
     },
     "metadata": {},
     "output_type": "display_data"
    }
   ],
   "source": [
    "plt.imshow(image)"
   ]
  },
  {
   "cell_type": "code",
   "execution_count": 11,
   "metadata": {},
   "outputs": [
    {
     "name": "stdout",
     "output_type": "stream",
     "text": [
      "Label: 5\n"
     ]
    },
    {
     "data": {
      "image/png": "[encoded data removed]",
      "text/plain": [
       "<Figure size 640x480 with 1 Axes>"
      ]
     },
     "metadata": {},
     "output_type": "display_data"
    }
   ],
   "source": [
    "plt.imshow(image, cmap='gray')\n",
    "print('Label:', label)"
   ]
  },
  {
   "cell_type": "code",
   "execution_count": 12,
   "metadata": {},
   "outputs": [],
   "source": [
    "import torchvision.transforms as transforms"
   ]
  },
  {
   "cell_type": "code",
   "execution_count": 13,
   "metadata": {},
   "outputs": [],
   "source": [
    "# MNIST dataset (images and labels)\n",
    "dataset = MNIST(root='data/', \n",
    "                train=True,\n",
    "                transform=transforms.ToTensor())"
   ]
  },
  {
   "cell_type": "code",
   "execution_count": 14,
   "metadata": {},
   "outputs": [
    {
     "name": "stdout",
     "output_type": "stream",
     "text": [
      "torch.Size([1, 28, 28]) 5\n"
     ]
    }
   ],
   "source": [
    "img_tensor, label = dataset[0]\n",
    "print(img_tensor.shape, label)"
   ]
  },
  {
   "cell_type": "code",
   "execution_count": 15,
   "metadata": {},
   "outputs": [
    {
     "data": {
      "image/png": "[encoded data removed]",
      "text/plain": [
       "<Figure size 640x480 with 1 Axes>"
      ]
     },
     "metadata": {},
     "output_type": "display_data"
    }
   ],
   "source": [
    "# Plot the image by passing in the 28x28 matrix\n",
    "plt.imshow(img_tensor[0,10:15,10:15], cmap='gray');"
   ]
  },
  {
   "cell_type": "code",
   "execution_count": 16,
   "metadata": {},
   "outputs": [
    {
     "data": {
      "text/plain": [
       "(50000, 10000)"
      ]
     },
     "execution_count": 16,
     "metadata": {},
     "output_type": "execute_result"
    }
   ],
   "source": [
    "from torch.utils.data import random_split\n",
    "train_ds, val_ds = random_split(dataset, [50000, 10000])\n",
    "len(train_ds), len(val_ds)"
   ]
  },
  {
   "cell_type": "code",
   "execution_count": 17,
   "metadata": {},
   "outputs": [],
   "source": [
    "from torch.utils.data import DataLoader\n",
    "batch_size = 128\n",
    "train_loader = DataLoader(train_ds, batch_size, shuffle=True)\n",
    "val_loader = DataLoader(val_ds, batch_size)"
   ]
  },
  {
   "cell_type": "markdown",
   "metadata": {},
   "source": [
    "## Logistic"
   ]
  },
  {
   "cell_type": "code",
   "execution_count": 18,
   "metadata": {},
   "outputs": [],
   "source": [
    "import torch.nn as nn\n",
    "input_size = 28*28\n",
    "num_classes = 10\n",
    "# Logistic regression model\n",
    "model = nn.Linear(input_size, num_classes)"
   ]
  },
  {
   "cell_type": "code",
   "execution_count": 19,
   "metadata": {},
   "outputs": [
    {
     "name": "stdout",
     "output_type": "stream",
     "text": [
      "torch.Size([10])\n"
     ]
    },
    {
     "data": {
      "text/plain": [
       "Parameter containing:\n",
       "tensor([-0.0112,  0.0343,  0.0143, -0.0065, -0.0291, -0.0254, -0.0016,  0.0026,\n",
       "        -0.0060, -0.0244], requires_grad=True)"
      ]
     },
     "execution_count": 19,
     "metadata": {},
     "output_type": "execute_result"
    }
   ],
   "source": [
    "print(model.bias.shape)\n",
    "model.bias"
   ]
  },
  {
   "cell_type": "code",
   "execution_count": 22,
   "metadata": {},
   "outputs": [
    {
     "name": "stdout",
     "output_type": "stream",
     "text": [
      "tensor([1, 1, 5, 0, 1, 7, 2, 3, 8, 0, 1, 1, 1, 2, 0, 3, 0, 1, 4, 9, 1, 0, 1, 0,\n",
      "        1, 2, 6, 8, 0, 4, 8, 9, 7, 4, 2, 9, 2, 3, 5, 7, 5, 6, 9, 8, 7, 1, 9, 1,\n",
      "        9, 4, 0, 4, 4, 7, 4, 8, 5, 7, 3, 8, 6, 4, 1, 1, 3, 3, 1, 7, 2, 0, 9, 6,\n",
      "        2, 4, 2, 7, 7, 1, 1, 9, 0, 3, 0, 0, 6, 9, 0, 8, 6, 7, 4, 0, 6, 3, 1, 0,\n",
      "        3, 5, 3, 8, 5, 1, 1, 3, 6, 3, 9, 3, 2, 5, 4, 6, 9, 8, 6, 7, 1, 5, 1, 9,\n",
      "        0, 8, 6, 6, 1, 3, 1, 7])\n",
      "torch.Size([128, 1, 28, 28])\n",
      "tensor([[ 0.0019,  0.1095,  0.1682,  ...,  0.3518,  0.2998,  0.1975],\n",
      "        [ 0.1975, -0.1160,  0.2047,  ...,  0.1108,  0.0930,  0.0883],\n",
      "        [ 0.1826,  0.0622, -0.4465,  ..., -0.1029, -0.1280,  0.1024],\n",
      "        ...,\n",
      "        [ 0.0095,  0.1474, -0.0898,  ..., -0.0237,  0.2163,  0.1578],\n",
      "        [ 0.3329, -0.0796,  0.0893,  ...,  0.1439,  0.0681,  0.0850],\n",
      "        [-0.0949,  0.2168,  0.1545,  ..., -0.0227,  0.0710,  0.2349]],\n",
      "       grad_fn=<AddmmBackward0>)\n"
     ]
    }
   ],
   "source": [
    "for images, labels in train_loader:\n",
    "    print(labels)\n",
    "    print(images.shape)\n",
    "    images2=images.reshape(128, 784)\n",
    "    outputs = model(images2)\n",
    "    print(outputs)\n",
    "    break"
   ]
  },
  {
   "cell_type": "code",
   "execution_count": 23,
   "metadata": {},
   "outputs": [],
   "source": [
    "class MnistModel(nn.Module):\n",
    "    def __init__(self):\n",
    "        super().__init__()\n",
    "        self.linear = nn.Linear(input_size, num_classes)\n",
    "        \n",
    "    def forward(self, xb):\n",
    "        xb = xb.reshape(-1, 784)\n",
    "        out = self.linear(xb)\n",
    "        return out\n",
    "    \n",
    "model = MnistModel()"
   ]
  },
  {
   "cell_type": "code",
   "execution_count": 24,
   "metadata": {},
   "outputs": [
    {
     "name": "stdout",
     "output_type": "stream",
     "text": [
      "torch.Size([10, 784]) torch.Size([10])\n"
     ]
    },
    {
     "data": {
      "text/plain": [
       "[Parameter containing:\n",
       " tensor([[-0.0048,  0.0162, -0.0238,  ...,  0.0083,  0.0165,  0.0068],\n",
       "         [-0.0044, -0.0311, -0.0032,  ...,  0.0009, -0.0004,  0.0032],\n",
       "         [-0.0293, -0.0288,  0.0341,  ..., -0.0184,  0.0323, -0.0119],\n",
       "         ...,\n",
       "         [-0.0321, -0.0258,  0.0287,  ..., -0.0047,  0.0147, -0.0001],\n",
       "         [-0.0335,  0.0092, -0.0103,  ..., -0.0257,  0.0193,  0.0010],\n",
       "         [-0.0332, -0.0181, -0.0016,  ..., -0.0260, -0.0291, -0.0355]],\n",
       "        requires_grad=True),\n",
       " Parameter containing:\n",
       " tensor([-0.0054,  0.0290,  0.0275, -0.0245,  0.0279, -0.0346, -0.0247,  0.0193,\n",
       "          0.0337,  0.0060], requires_grad=True)]"
      ]
     },
     "execution_count": 24,
     "metadata": {},
     "output_type": "execute_result"
    }
   ],
   "source": [
    "print(model.linear.weight.shape, model.linear.bias.shape)\n",
    "list(model.parameters())"
   ]
  },
  {
   "cell_type": "code",
   "execution_count": 25,
   "metadata": {},
   "outputs": [
    {
     "name": "stdout",
     "output_type": "stream",
     "text": [
      "torch.Size([10, 784]) torch.Size([10])\n"
     ]
    },
    {
     "data": {
      "text/plain": [
       "[Parameter containing:\n",
       " tensor([[-0.0048,  0.0162, -0.0238,  ...,  0.0083,  0.0165,  0.0068],\n",
       "         [-0.0044, -0.0311, -0.0032,  ...,  0.0009, -0.0004,  0.0032],\n",
       "         [-0.0293, -0.0288,  0.0341,  ..., -0.0184,  0.0323, -0.0119],\n",
       "         ...,\n",
       "         [-0.0321, -0.0258,  0.0287,  ..., -0.0047,  0.0147, -0.0001],\n",
       "         [-0.0335,  0.0092, -0.0103,  ..., -0.0257,  0.0193,  0.0010],\n",
       "         [-0.0332, -0.0181, -0.0016,  ..., -0.0260, -0.0291, -0.0355]],\n",
       "        requires_grad=True),\n",
       " Parameter containing:\n",
       " tensor([-0.0054,  0.0290,  0.0275, -0.0245,  0.0279, -0.0346, -0.0247,  0.0193,\n",
       "          0.0337,  0.0060], requires_grad=True)]"
      ]
     },
     "execution_count": 25,
     "metadata": {},
     "output_type": "execute_result"
    }
   ],
   "source": [
    "print(model.linear.weight.shape, model.linear.bias.shape)\n",
    "list(model.parameters())"
   ]
  },
  {
   "cell_type": "code",
   "execution_count": 26,
   "metadata": {},
   "outputs": [
    {
     "name": "stdout",
     "output_type": "stream",
     "text": [
      "torch.Size([128, 1, 28, 28])\n",
      "outputs.shape :  torch.Size([128, 10])\n",
      "Sample outputs :\n",
      " tensor([[ 0.0644, -0.0408, -0.0324,  0.2520,  0.2990,  0.1958, -0.0999, -0.0741,\n",
      "         -0.0641,  0.0479],\n",
      "        [ 0.1853, -0.0934,  0.0295, -0.1043,  0.3185,  0.1613, -0.0962,  0.1611,\n",
      "         -0.0300, -0.3227]])\n"
     ]
    }
   ],
   "source": [
    "for images, labels in train_loader:\n",
    "    print(images.shape)\n",
    "    outputs = model(images)\n",
    "    break\n",
    "\n",
    "print('outputs.shape : ', outputs.shape)\n",
    "print('Sample outputs :\\n', outputs[:2].data)"
   ]
  },
  {
   "cell_type": "code",
   "execution_count": 27,
   "metadata": {},
   "outputs": [],
   "source": [
    "import torch.nn.functional as F"
   ]
  },
  {
   "cell_type": "code",
   "execution_count": 28,
   "metadata": {},
   "outputs": [
    {
     "name": "stdout",
     "output_type": "stream",
     "text": [
      "Sample probabilities:\n",
      " tensor([[0.1000, 0.0900, 0.0908, 0.1206, 0.1264, 0.1140, 0.0848, 0.0871, 0.0879,\n",
      "         0.0983],\n",
      "        [0.1160, 0.0878, 0.0993, 0.0869, 0.1326, 0.1133, 0.0876, 0.1133, 0.0936,\n",
      "         0.0698]])\n",
      "Sum:  1.0\n"
     ]
    }
   ],
   "source": [
    "# Apply softmax for each output row\n",
    "probs = F.softmax(outputs, dim=1)\n",
    "\n",
    "# Look at sample probabilities\n",
    "print(\"Sample probabilities:\\n\", probs[:2].data)\n",
    "\n",
    "# Add up the probabilities of an output row\n",
    "print(\"Sum: \", torch.sum(probs[0]).item())"
   ]
  },
  {
   "cell_type": "code",
   "execution_count": 29,
   "metadata": {},
   "outputs": [
    {
     "name": "stdout",
     "output_type": "stream",
     "text": [
      "tensor([4, 4, 4, 8, 2, 2, 0, 8, 0, 1, 4, 4, 8, 0, 8, 5, 6, 5, 8, 4, 4, 0, 4, 3,\n",
      "        2, 4, 4, 1, 4, 5, 0, 5, 5, 8, 4, 4, 7, 0, 2, 4, 3, 0, 5, 5, 3, 4, 4, 2,\n",
      "        5, 0, 1, 2, 2, 8, 5, 2, 5, 8, 5, 0, 4, 8, 8, 8, 2, 4, 5, 0, 4, 7, 7, 7,\n",
      "        9, 3, 1, 7, 9, 5, 2, 7, 2, 4, 5, 4, 4, 2, 2, 5, 5, 4, 2, 4, 2, 4, 5, 2,\n",
      "        3, 7, 7, 0, 4, 7, 7, 2, 4, 7, 5, 8, 0, 2, 7, 7, 2, 3, 8, 1, 4, 5, 0, 5,\n",
      "        4, 8, 4, 7, 0, 5, 7, 0])\n",
      "tensor([0.1264, 0.1326, 0.1254, 0.1330, 0.1256, 0.1286, 0.1281, 0.1427, 0.1463,\n",
      "        0.1357, 0.1546, 0.1148, 0.1201, 0.1251, 0.1240, 0.1191, 0.1211, 0.1433,\n",
      "        0.1230, 0.1327, 0.1248, 0.1245, 0.1100, 0.1173, 0.1280, 0.1279, 0.1269,\n",
      "        0.1139, 0.1276, 0.1246, 0.1152, 0.1148, 0.1202, 0.1393, 0.1277, 0.1194,\n",
      "        0.1530, 0.1264, 0.1312, 0.1159, 0.1218, 0.1311, 0.1352, 0.1374, 0.1234,\n",
      "        0.1277, 0.1353, 0.1188, 0.1333, 0.1184, 0.1273, 0.1157, 0.1325, 0.1305,\n",
      "        0.1276, 0.1123, 0.1163, 0.1277, 0.1268, 0.1175, 0.1206, 0.1204, 0.1224,\n",
      "        0.1273, 0.1376, 0.1553, 0.1290, 0.1102, 0.1205, 0.1269, 0.1228, 0.1278,\n",
      "        0.1146, 0.1153, 0.1410, 0.1347, 0.1126, 0.1241, 0.1310, 0.1488, 0.1153,\n",
      "        0.1192, 0.1352, 0.1245, 0.1143, 0.1180, 0.1177, 0.1396, 0.1395, 0.1213,\n",
      "        0.1207, 0.1298, 0.1242, 0.1416, 0.1289, 0.1307, 0.1182, 0.1485, 0.1289,\n",
      "        0.1313, 0.1185, 0.1201, 0.1404, 0.1462, 0.1476, 0.1153, 0.1151, 0.1202,\n",
      "        0.1221, 0.1300, 0.1399, 0.1327, 0.1344, 0.1300, 0.1300, 0.1228, 0.1093,\n",
      "        0.1212, 0.1164, 0.1150, 0.1372, 0.1298, 0.1382, 0.1165, 0.1322, 0.1162,\n",
      "        0.1264, 0.1197], grad_fn=<MaxBackward0>)\n"
     ]
    }
   ],
   "source": [
    "max_probs, preds = torch.max(probs, dim=1)\n",
    "print(preds)\n",
    "print(max_probs)"
   ]
  },
  {
   "cell_type": "markdown",
   "metadata": {},
   "source": [
    "# Evalaution Metric and Loss Function"
   ]
  },
  {
   "cell_type": "code",
   "execution_count": null,
   "metadata": {},
   "outputs": [],
   "source": [
    "outputs[:2]\n",
    "torch.sum(preds == labels)"
   ]
  },
  {
   "cell_type": "code",
   "execution_count": 30,
   "metadata": {},
   "outputs": [],
   "source": [
    "def accuracy(outputs, labels):\n",
    "    _, preds = torch.max(outputs, dim=1)\n",
    "    return torch.tensor(torch.sum(preds == labels).item() / len(preds))"
   ]
  },
  {
   "cell_type": "code",
   "execution_count": 31,
   "metadata": {},
   "outputs": [
    {
     "data": {
      "text/plain": [
       "tensor(0.0781)"
      ]
     },
     "execution_count": 31,
     "metadata": {},
     "output_type": "execute_result"
    }
   ],
   "source": [
    "accuracy(outputs, labels)"
   ]
  },
  {
   "cell_type": "code",
   "execution_count": 32,
   "metadata": {},
   "outputs": [],
   "source": [
    "loss_fn = F.cross_entropy"
   ]
  },
  {
   "cell_type": "code",
   "execution_count": 33,
   "metadata": {},
   "outputs": [
    {
     "name": "stdout",
     "output_type": "stream",
     "text": [
      "tensor(2.3151, grad_fn=<NllLossBackward0>)\n"
     ]
    }
   ],
   "source": [
    "# Loss for current batch of data\n",
    "loss = loss_fn(outputs, labels)\n",
    "print(loss)"
   ]
  },
  {
   "cell_type": "markdown",
   "metadata": {},
   "source": [
    "for epoch in range(num_epochs):\n",
    "    # Training phase\n",
    "    for batch in train_loader:\n",
    "        # Generate predictions\n",
    "        # Calculate loss\n",
    "        # Compute gradients\n",
    "        # Update weights\n",
    "        # Reset gradients\n",
    "    \n",
    "    # Validation phase\n",
    "    for batch in val_loader:\n",
    "        # Generate predictions\n",
    "        # Calculate loss\n",
    "        # Calculate metrics (accuracy etc.)\n",
    "    # Calculate average validation loss & metrics\n",
    "    \n",
    "    # Log epoch, loss & metrics for inspection"
   ]
  },
  {
   "cell_type": "code",
   "execution_count": 34,
   "metadata": {},
   "outputs": [],
   "source": [
    "def fit(epochs, lr, model, train_loader, val_loader, opt_func=torch.optim.SGD):\n",
    "    optimizer = opt_func(model.parameters(), lr)\n",
    "    history = [] # for recording epoch-wise results\n",
    "    \n",
    "    for epoch in range(epochs):\n",
    "        \n",
    "        # Training Phase \n",
    "        for batch in train_loader:\n",
    "            loss = model.training_step(batch)\n",
    "            loss.backward()\n",
    "            optimizer.step()\n",
    "            optimizer.zero_grad()\n",
    "        \n",
    "        # Validation phase\n",
    "        result = evaluate(model, val_loader)\n",
    "        model.epoch_end(epoch, result)\n",
    "        history.append(result)\n",
    "\n",
    "    return history"
   ]
  },
  {
   "cell_type": "code",
   "execution_count": 35,
   "metadata": {},
   "outputs": [],
   "source": [
    "def evaluate(model, val_loader):\n",
    "    outputs = [model.validation_step(batch) for batch in val_loader]\n",
    "    return model.validation_epoch_end(outputs)"
   ]
  },
  {
   "cell_type": "code",
   "execution_count": 36,
   "metadata": {},
   "outputs": [],
   "source": [
    "class MnistModel(nn.Module):\n",
    "    def __init__(self):\n",
    "        super().__init__()\n",
    "        self.linear = nn.Linear(input_size, num_classes)\n",
    "        \n",
    "    def forward(self, xb):\n",
    "        xb = xb.reshape(-1, 784)\n",
    "        out = self.linear(xb)\n",
    "        return out\n",
    "    \n",
    "    def training_step(self, batch):\n",
    "        images, labels = batch \n",
    "        out = self(images)                  # Generate predictions\n",
    "        loss = F.cross_entropy(out, labels) # Calculate loss\n",
    "        return loss\n",
    "    \n",
    "    def validation_step(self, batch):\n",
    "        images, labels = batch \n",
    "        out = self(images)                    # Generate predictions\n",
    "        loss = F.cross_entropy(out, labels)   # Calculate loss\n",
    "        acc = accuracy(out, labels)           # Calculate accuracy\n",
    "        return {'val_loss': loss, 'val_acc': acc}\n",
    "        \n",
    "    def validation_epoch_end(self, outputs):\n",
    "        batch_losses = [x['val_loss'] for x in outputs]\n",
    "        epoch_loss = torch.stack(batch_losses).mean()   # Combine losses\n",
    "        batch_accs = [x['val_acc'] for x in outputs]\n",
    "        epoch_acc = torch.stack(batch_accs).mean()      # Combine accuracies\n",
    "        return {'val_loss': epoch_loss.item(), 'val_acc': epoch_acc.item()}\n",
    "    \n",
    "    def epoch_end(self, epoch, result):\n",
    "        print(\"Epoch [{}], val_loss: {:.4f}, val_acc: {:.4f}\".format(epoch, result['val_loss'], result['val_acc']))\n",
    "    \n",
    "model = MnistModel()"
   ]
  },
  {
   "cell_type": "code",
   "execution_count": 37,
   "metadata": {},
   "outputs": [
    {
     "data": {
      "text/plain": [
       "{'val_loss': 2.3214361667633057, 'val_acc': 0.11046281456947327}"
      ]
     },
     "execution_count": 37,
     "metadata": {},
     "output_type": "execute_result"
    }
   ],
   "source": [
    "result0 = evaluate(model, val_loader)\n",
    "result0"
   ]
  },
  {
   "cell_type": "code",
   "execution_count": 38,
   "metadata": {},
   "outputs": [
    {
     "name": "stdout",
     "output_type": "stream",
     "text": [
      "Epoch [0], val_loss: 1.9509, val_acc: 0.6270\n",
      "Epoch [1], val_loss: 1.6802, val_acc: 0.7169\n",
      "Epoch [2], val_loss: 1.4775, val_acc: 0.7539\n",
      "Epoch [3], val_loss: 1.3241, val_acc: 0.7789\n",
      "Epoch [4], val_loss: 1.2060, val_acc: 0.7939\n"
     ]
    }
   ],
   "source": [
    "history1 = fit(5, 0.001, model, train_loader, val_loader)"
   ]
  },
  {
   "cell_type": "code",
   "execution_count": 39,
   "metadata": {},
   "outputs": [
    {
     "name": "stdout",
     "output_type": "stream",
     "text": [
      "Epoch [0], val_loss: 1.1132, val_acc: 0.8070\n",
      "Epoch [1], val_loss: 1.0387, val_acc: 0.8182\n",
      "Epoch [2], val_loss: 0.9778, val_acc: 0.8260\n",
      "Epoch [3], val_loss: 0.9271, val_acc: 0.8307\n",
      "Epoch [4], val_loss: 0.8843, val_acc: 0.8334\n"
     ]
    }
   ],
   "source": [
    "history1 = fit(5, 0.001, model, train_loader, val_loader)"
   ]
  },
  {
   "cell_type": "code",
   "execution_count": 43,
   "metadata": {},
   "outputs": [
    {
     "name": "stdout",
     "output_type": "stream",
     "text": [
      "Epoch [0], val_loss: 0.6489, val_acc: 0.8608\n",
      "Epoch [1], val_loss: 0.6376, val_acc: 0.8629\n",
      "Epoch [2], val_loss: 0.6272, val_acc: 0.8646\n",
      "Epoch [3], val_loss: 0.6174, val_acc: 0.8661\n",
      "Epoch [4], val_loss: 0.6083, val_acc: 0.8668\n"
     ]
    }
   ],
   "source": [
    "history2 = fit(5, 0.001, model, train_loader, val_loader)"
   ]
  },
  {
   "cell_type": "code",
   "execution_count": 40,
   "metadata": {},
   "outputs": [
    {
     "name": "stdout",
     "output_type": "stream",
     "text": [
      "Epoch [0], val_loss: 0.8477, val_acc: 0.8381\n",
      "Epoch [1], val_loss: 0.8160, val_acc: 0.8415\n",
      "Epoch [2], val_loss: 0.7882, val_acc: 0.8440\n",
      "Epoch [3], val_loss: 0.7637, val_acc: 0.8453\n",
      "Epoch [4], val_loss: 0.7420, val_acc: 0.8485\n"
     ]
    }
   ],
   "source": [
    "history3 = fit(5, 0.001, model, train_loader, val_loader)"
   ]
  },
  {
   "cell_type": "code",
   "execution_count": 41,
   "metadata": {},
   "outputs": [
    {
     "name": "stdout",
     "output_type": "stream",
     "text": [
      "Epoch [0], val_loss: 0.7225, val_acc: 0.8509\n",
      "Epoch [1], val_loss: 0.7049, val_acc: 0.8531\n",
      "Epoch [2], val_loss: 0.6889, val_acc: 0.8547\n",
      "Epoch [3], val_loss: 0.6744, val_acc: 0.8571\n",
      "Epoch [4], val_loss: 0.6611, val_acc: 0.8589\n"
     ]
    }
   ],
   "source": [
    "history4 = fit(5, 0.001, model, train_loader, val_loader)"
   ]
  },
  {
   "cell_type": "code",
   "execution_count": 44,
   "metadata": {},
   "outputs": [
    {
     "data": {
      "image/png": "[encoded data removed]",
      "text/plain": [
       "<Figure size 640x480 with 1 Axes>"
      ]
     },
     "metadata": {},
     "output_type": "display_data"
    }
   ],
   "source": [
    "history = [result0] + history1 + history2 + history3 + history4\n",
    "accuracies = [result['val_acc'] for result in history]\n",
    "plt.plot(accuracies, '-x')\n",
    "plt.xlabel('epoch')\n",
    "plt.ylabel('accuracy')\n",
    "plt.title('Accuracy vs. No. of epochs');"
   ]
  },
  {
   "cell_type": "markdown",
   "metadata": {},
   "source": [
    "# Testing iNdividual"
   ]
  },
  {
   "cell_type": "code",
   "execution_count": 45,
   "metadata": {},
   "outputs": [],
   "source": [
    "# Define test dataset\n",
    "test_dataset = MNIST(root='data/', \n",
    "                     train=False,\n",
    "                     transform=transforms.ToTensor())"
   ]
  },
  {
   "cell_type": "code",
   "execution_count": 46,
   "metadata": {},
   "outputs": [
    {
     "name": "stdout",
     "output_type": "stream",
     "text": [
      "Shape: torch.Size([1, 28, 28])\n",
      "Label: 7\n"
     ]
    },
    {
     "data": {
      "image/png": "[encoded data removed]",
      "text/plain": [
       "<Figure size 640x480 with 1 Axes>"
      ]
     },
     "metadata": {},
     "output_type": "display_data"
    }
   ],
   "source": [
    "img, label = test_dataset[0]\n",
    "plt.imshow(img[0], cmap='gray')\n",
    "print('Shape:', img.shape)\n",
    "print('Label:', label)"
   ]
  },
  {
   "cell_type": "code",
   "execution_count": 47,
   "metadata": {},
   "outputs": [
    {
     "data": {
      "text/plain": [
       "{'val_loss': 0.5873834490776062, 'val_acc': 0.867480456829071}"
      ]
     },
     "execution_count": 47,
     "metadata": {},
     "output_type": "execute_result"
    }
   ],
   "source": [
    "# Overall Loss\n",
    "test_loader = DataLoader(test_dataset, batch_size=256)\n",
    "result = evaluate(model, test_loader)\n",
    "result"
   ]
  },
  {
   "cell_type": "code",
   "execution_count": 48,
   "metadata": {},
   "outputs": [
    {
     "data": {
      "text/plain": [
       "OrderedDict([('linear.weight',\n",
       "              tensor([[ 0.0205, -0.0347,  0.0178,  ..., -0.0238, -0.0198,  0.0213],\n",
       "                      [ 0.0200, -0.0167, -0.0050,  ...,  0.0347, -0.0169, -0.0062],\n",
       "                      [ 0.0008, -0.0032,  0.0280,  ...,  0.0026, -0.0139, -0.0246],\n",
       "                      ...,\n",
       "                      [-0.0046,  0.0313,  0.0228,  ...,  0.0212, -0.0007, -0.0239],\n",
       "                      [ 0.0212,  0.0348,  0.0046,  ..., -0.0029, -0.0087,  0.0189],\n",
       "                      [-0.0209,  0.0235, -0.0271,  ..., -0.0272, -0.0032,  0.0249]])),\n",
       "             ('linear.bias',\n",
       "              tensor([-0.0333,  0.1157,  0.0034, -0.0440,  0.0554,  0.0386, -0.0091,  0.0479,\n",
       "                      -0.1204,  0.0214]))])"
      ]
     },
     "execution_count": 48,
     "metadata": {},
     "output_type": "execute_result"
    }
   ],
   "source": [
    "model.state_dict()"
   ]
  },
  {
   "cell_type": "code",
   "execution_count": null,
   "metadata": {},
   "outputs": [],
   "source": [
    "torch.save(model.state_dict(), 'mnist-logistic.pth')\n",
    "model2.load_state_dict(torch.load('mnist-logistic.pth'))"
   ]
  }
 ],
 "metadata": {
  "kernelspec": {
   "display_name": "Python 3 (ipykernel)",
   "language": "python",
   "name": "python3"
  },
  "language_info": {
   "codemirror_mode": {
    "name": "ipython",
    "version": 3
   },
   "file_extension": ".py",
   "mimetype": "text/x-python",
   "name": "python",
   "nbconvert_exporter": "python",
   "pygments_lexer": "ipython3",
   "version": "3.9.18"
  }
 },
 "nbformat": 4,
 "nbformat_minor": 4
}
